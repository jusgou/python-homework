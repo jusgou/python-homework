{
 "cells": [
  {
   "cell_type": "markdown",
   "metadata": {},
   "source": [
    "# Python Assignment: Part 1 - pyBank"
   ]
  },
  {
   "cell_type": "markdown",
   "metadata": {},
   "source": [
    "### Import Data Set:"
   ]
  },
  {
   "cell_type": "code",
   "execution_count": 53,
   "metadata": {},
   "outputs": [],
   "source": [
    "#import pathlib library\n",
    "import pathlib\n",
    "\n",
    "#import csv reader module\n",
    "import csv"
   ]
  },
  {
   "cell_type": "code",
   "execution_count": 54,
   "metadata": {},
   "outputs": [],
   "source": [
    "#import Path from pathlib\n",
    "from pathlib import Path"
   ]
  },
  {
   "cell_type": "code",
   "execution_count": 55,
   "metadata": {},
   "outputs": [
    {
     "name": "stdout",
     "output_type": "stream",
     "text": [
      "C:\\Users\\justi\\Documents\\01_UofT_BC_Fintech\\01_Homework\\0220_python_homework\\python-homework\\PyBank\n"
     ]
    }
   ],
   "source": [
    "#print path to ensure directory is correct\n",
    "print(Path.cwd())"
   ]
  },
  {
   "cell_type": "code",
   "execution_count": 40,
   "metadata": {},
   "outputs": [],
   "source": [
    "#import csv file into coding environment\n",
    "csvpath = pathlib.Path(\"Resources/budget_data.csv\")"
   ]
  },
  {
   "cell_type": "markdown",
   "metadata": {},
   "source": [
    "### Create lists to hold data from csv file:"
   ]
  },
  {
   "cell_type": "code",
   "execution_count": 57,
   "metadata": {},
   "outputs": [],
   "source": [
    "month = []\n",
    "profit_loss = []\n",
    "avg_change = []\n",
    "previous_day = None\n",
    "total_value = 0 "
   ]
  },
  {
   "cell_type": "code",
   "execution_count": 58,
   "metadata": {},
   "outputs": [],
   "source": [
    "#set initial row number as reference\n",
    "line_num = 0"
   ]
  },
  {
   "cell_type": "markdown",
   "metadata": {},
   "source": [
    "### Open file with csv.reader and determine how python will read values: "
   ]
  },
  {
   "cell_type": "code",
   "execution_count": 59,
   "metadata": {},
   "outputs": [],
   "source": [
    "#open csv file and make it readable in python\n",
    "with open(csvpath, 'r') as csvfile:\n",
    "    csvreader = csv.reader(csvfile,delimiter=',')\n",
    "#read each row of data after the header\n",
    "    header = next(csvreader)\n",
    "    line_num += 1\n",
    "#iterate relationships within dataset \n",
    "    for row in csvreader:\n",
    "        \n",
    "        if previous_day == None:\n",
    "            previous_day = int(row[1])\n",
    "        else: \n",
    "            avg_change.append(int(row[1]) - previous_day)\n",
    "            previous_day = int(row[1])\n",
    "            \n",
    "        date = row[0]\n",
    "        pnl_value = int(row[1])\n",
    "        \n",
    "        month.append(date)\n",
    "        profit_loss.append(pnl_value)\n",
    "        \n",
    "        total_value = total_value + pnl_value"
   ]
  },
  {
   "cell_type": "code",
   "execution_count": 60,
   "metadata": {},
   "outputs": [
    {
     "name": "stdout",
     "output_type": "stream",
     "text": [
      "86\n"
     ]
    }
   ],
   "source": [
    "# total months\n",
    "total_months = len(month)\n",
    "print(total_months)"
   ]
  },
  {
   "cell_type": "code",
   "execution_count": 61,
   "metadata": {},
   "outputs": [
    {
     "name": "stdout",
     "output_type": "stream",
     "text": [
      "38382578\n"
     ]
    }
   ],
   "source": [
    "print(total_value)"
   ]
  },
  {
   "cell_type": "code",
   "execution_count": 85,
   "metadata": {},
   "outputs": [],
   "source": [
    "#define equation for average change\n",
    "average_change = round(sum(avg_change) / len(avg_change),2)"
   ]
  },
  {
   "cell_type": "code",
   "execution_count": 63,
   "metadata": {},
   "outputs": [],
   "source": [
    "#define greatest decrease \n",
    "greatest_decrease = min(avg_change)"
   ]
  },
  {
   "cell_type": "code",
   "execution_count": 64,
   "metadata": {},
   "outputs": [],
   "source": [
    "#define greatest increase\n",
    "greatest_increase = max(avg_change)"
   ]
  },
  {
   "cell_type": "code",
   "execution_count": 65,
   "metadata": {},
   "outputs": [],
   "source": [
    "#create index \n",
    "greatest_increase_index = avg_change.index(greatest_increase)+1\n",
    "greatest_decrease_index = avg_change.index(greatest_decrease)+1"
   ]
  },
  {
   "cell_type": "code",
   "execution_count": 84,
   "metadata": {},
   "outputs": [],
   "source": [
    "greatest_increase_date = month[greatest_increase_index]"
   ]
  },
  {
   "cell_type": "code",
   "execution_count": 82,
   "metadata": {},
   "outputs": [],
   "source": [
    "greatest_decrease_date = month[greatest_decrease_index]"
   ]
  },
  {
   "cell_type": "code",
   "execution_count": 81,
   "metadata": {},
   "outputs": [],
   "source": [
    "#Open the output path as a file object and write to output\n",
    "with open (r'output.txt', 'w') as file:\n",
    "    file.write(f\"Financial Analysis\\n\")\n",
    "    file.write(f\"----------------------------\\n\")\n",
    "    file.write(f\"Total Months: {total_months}\\n\") \n",
    "    file.write(f\"Total: ${total_value}\\n\")\n",
    "    file.write(f\"Average Change: ${average_change}\\n\")\n",
    "    file.write(f\"Greatest Increase in Profits: {greatest_increase_date} (${greatest_increase})\\n\") \n",
    "    file.write(f\"Greatest Decrease in Profits: {greatest_decrease_date} (${greatest_decrease})\\n\")"
   ]
  }
 ],
 "metadata": {
  "kernelspec": {
   "display_name": "Python 3",
   "language": "python",
   "name": "python3"
  },
  "language_info": {
   "codemirror_mode": {
    "name": "ipython",
    "version": 3
   },
   "file_extension": ".py",
   "mimetype": "text/x-python",
   "name": "python",
   "nbconvert_exporter": "python",
   "pygments_lexer": "ipython3",
   "version": "3.7.9"
  }
 },
 "nbformat": 4,
 "nbformat_minor": 4
}
