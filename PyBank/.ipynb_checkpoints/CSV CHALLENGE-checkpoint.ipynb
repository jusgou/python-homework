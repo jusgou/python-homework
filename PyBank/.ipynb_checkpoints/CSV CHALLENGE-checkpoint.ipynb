{
 "cells": [
  {
   "cell_type": "code",
   "execution_count": 20,
   "id": "essential-address",
   "metadata": {},
   "outputs": [],
   "source": [
    "import pathlib\n",
    "import csv"
   ]
  },
  {
   "cell_type": "code",
   "execution_count": 21,
   "id": "injured-insider",
   "metadata": {},
   "outputs": [],
   "source": [
    "csvpath = pathlib.Path(\"Resources/sales.csv\")"
   ]
  },
  {
   "cell_type": "code",
   "execution_count": 22,
   "id": "adolescent-maximum",
   "metadata": {},
   "outputs": [],
   "source": [
    "records = []"
   ]
  },
  {
   "cell_type": "code",
   "execution_count": 33,
   "id": "annual-honor",
   "metadata": {},
   "outputs": [
    {
     "name": "stdout",
     "output_type": "stream",
     "text": [
      "['Name', 'Count', 'Revenue', 'Average']\n"
     ]
    }
   ],
   "source": [
    "with open(csvpath, 'r') as csvfile:\n",
    "    csvreader = csv.reader(csvfile,delimiter=',')\n",
    "    \n",
    "    csv_header = next(csvreader)\n",
    "    #print(csv_header)\n",
    "    \n",
    "    csv_header.append(\"Average\")\n",
    "    records.append(csv_header)\n",
    "    print(csv_header)\n",
    "    \n",
    "    for row in csvreader:\n",
    "        name = row[0]\n",
    "        count = int(row[1])\n",
    "        revenue = int(row[2])\n",
    "        \n",
    "        average = round(revenue / count, 2)\n",
    "        row.append(average)\n",
    "        records.append(row)\n",
    "      \n",
    "    "
   ]
  },
  {
   "cell_type": "code",
   "execution_count": 34,
   "id": "equivalent-departure",
   "metadata": {},
   "outputs": [],
   "source": [
    "output = pathlib.Path(\"output.csv\")"
   ]
  },
  {
   "cell_type": "code",
   "execution_count": 35,
   "id": "acknowledged-sleeve",
   "metadata": {},
   "outputs": [],
   "source": [
    "with open(output, 'w') as newcsvfile:\n",
    "    newcsvwriter = csv.writer(newcsvfile, delimiter = ',')\n",
    "    \n",
    "    for newcsvrecord in records:\n",
    "        newcsvwriter.writerow(newcsvrecord)"
   ]
  },
  {
   "cell_type": "code",
   "execution_count": null,
   "id": "matched-board",
   "metadata": {},
   "outputs": [],
   "source": []
  },
  {
   "cell_type": "code",
   "execution_count": null,
   "id": "excess-negative",
   "metadata": {},
   "outputs": [],
   "source": []
  }
 ],
 "metadata": {
  "kernelspec": {
   "display_name": "Python 3",
   "language": "python",
   "name": "python3"
  },
  "language_info": {
   "codemirror_mode": {
    "name": "ipython",
    "version": 3
   },
   "file_extension": ".py",
   "mimetype": "text/x-python",
   "name": "python",
   "nbconvert_exporter": "python",
   "pygments_lexer": "ipython3",
   "version": "3.7.9"
  }
 },
 "nbformat": 4,
 "nbformat_minor": 5
}
